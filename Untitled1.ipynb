{
 "cells": [
  {
   "cell_type": "code",
   "execution_count": 1,
   "id": "9ec01663-3a17-4b8c-afd8-d10d24bc46c2",
   "metadata": {},
   "outputs": [
    {
     "data": {
      "text/plain": [
       "3"
      ]
     },
     "execution_count": 1,
     "metadata": {},
     "output_type": "execute_result"
    }
   ],
   "source": [
    "1+2"
   ]
  },
  {
   "cell_type": "code",
   "execution_count": 2,
   "id": "36cbb805-8778-4932-9f53-b3480cb68666",
   "metadata": {},
   "outputs": [],
   "source": [
    "a = 10"
   ]
  },
  {
   "cell_type": "code",
   "execution_count": 3,
   "id": "1c992297-41ce-424e-8cfd-f802d11fe70f",
   "metadata": {},
   "outputs": [
    {
     "data": {
      "text/plain": [
       "10"
      ]
     },
     "execution_count": 3,
     "metadata": {},
     "output_type": "execute_result"
    }
   ],
   "source": [
    "a"
   ]
  },
  {
   "cell_type": "code",
   "execution_count": 4,
   "id": "2acbd29d-17d9-46b0-84a6-ca5391d75b66",
   "metadata": {},
   "outputs": [
    {
     "data": {
      "text/plain": [
       "int"
      ]
     },
     "execution_count": 4,
     "metadata": {},
     "output_type": "execute_result"
    }
   ],
   "source": [
    "type(a)"
   ]
  },
  {
   "cell_type": "code",
   "execution_count": 5,
   "id": "d935f68e-1278-40cd-9f9c-e86c9b1909d4",
   "metadata": {},
   "outputs": [],
   "source": [
    "shubh = 4526"
   ]
  },
  {
   "cell_type": "code",
   "execution_count": 6,
   "id": "3e906cf2-e12c-48c5-898b-004a7949806d",
   "metadata": {},
   "outputs": [
    {
     "data": {
      "text/plain": [
       "4526"
      ]
     },
     "execution_count": 6,
     "metadata": {},
     "output_type": "execute_result"
    }
   ],
   "source": [
    "shubh"
   ]
  },
  {
   "cell_type": "code",
   "execution_count": 7,
   "id": "5375e141-a2e8-4446-b5a9-d539c046fb5c",
   "metadata": {},
   "outputs": [
    {
     "data": {
      "text/plain": [
       "int"
      ]
     },
     "execution_count": 7,
     "metadata": {},
     "output_type": "execute_result"
    }
   ],
   "source": [
    "type(shubh)"
   ]
  },
  {
   "cell_type": "code",
   "execution_count": 8,
   "id": "df7099e9-0fc4-49a5-b2ba-47c7e189c3bc",
   "metadata": {},
   "outputs": [],
   "source": [
    "s = \" pwskills\" "
   ]
  },
  {
   "cell_type": "code",
   "execution_count": 9,
   "id": "08f2f626-96a9-43c0-8ea6-eb9be9280233",
   "metadata": {},
   "outputs": [
    {
     "data": {
      "text/plain": [
       "str"
      ]
     },
     "execution_count": 9,
     "metadata": {},
     "output_type": "execute_result"
    }
   ],
   "source": [
    "type(s)"
   ]
  },
  {
   "cell_type": "code",
   "execution_count": 10,
   "id": "6f12a2cd-55d8-49d9-b940-c0c307a74836",
   "metadata": {},
   "outputs": [],
   "source": [
    "s1 = \" this is my first python lecture\""
   ]
  },
  {
   "cell_type": "code",
   "execution_count": 11,
   "id": "a7d1d3ae-e8b6-493f-9f11-a85209372811",
   "metadata": {},
   "outputs": [
    {
     "data": {
      "text/plain": [
       "str"
      ]
     },
     "execution_count": 11,
     "metadata": {},
     "output_type": "execute_result"
    }
   ],
   "source": [
    "type(s1)"
   ]
  },
  {
   "cell_type": "code",
   "execution_count": 12,
   "id": "be7482d2-5f98-4421-b26c-4678f99fdd1b",
   "metadata": {},
   "outputs": [
    {
     "data": {
      "text/plain": [
       "' this is my first python lecture'"
      ]
     },
     "execution_count": 12,
     "metadata": {},
     "output_type": "execute_result"
    }
   ],
   "source": [
    "s1"
   ]
  },
  {
   "cell_type": "code",
   "execution_count": 13,
   "id": "b48d30fc-f19a-424c-995e-38c4ab6ad64d",
   "metadata": {},
   "outputs": [],
   "source": [
    "f =123.256"
   ]
  },
  {
   "cell_type": "code",
   "execution_count": 14,
   "id": "e27992e9-2c41-4500-a6a7-b7f5c46e6124",
   "metadata": {},
   "outputs": [
    {
     "data": {
      "text/plain": [
       "float"
      ]
     },
     "execution_count": 14,
     "metadata": {},
     "output_type": "execute_result"
    }
   ],
   "source": [
    "type(f)"
   ]
  },
  {
   "cell_type": "code",
   "execution_count": 15,
   "id": "7f00b5d6-b157-46f0-a8a0-04037cbc1833",
   "metadata": {},
   "outputs": [],
   "source": [
    "c = 4+6j"
   ]
  },
  {
   "cell_type": "code",
   "execution_count": 16,
   "id": "40762501-8011-4cd5-b351-7a2c2516421a",
   "metadata": {},
   "outputs": [
    {
     "data": {
      "text/plain": [
       "complex"
      ]
     },
     "execution_count": 16,
     "metadata": {},
     "output_type": "execute_result"
    }
   ],
   "source": [
    "type(c)"
   ]
  },
  {
   "cell_type": "code",
   "execution_count": 17,
   "id": "385a8388-baf0-48a3-af13-90f4ce028dfd",
   "metadata": {},
   "outputs": [
    {
     "data": {
      "text/plain": [
       "(4+6j)"
      ]
     },
     "execution_count": 17,
     "metadata": {},
     "output_type": "execute_result"
    }
   ],
   "source": [
    "c"
   ]
  },
  {
   "cell_type": "code",
   "execution_count": 18,
   "id": "51962605-ff6c-4fd8-8663-66d19397d857",
   "metadata": {},
   "outputs": [
    {
     "data": {
      "text/plain": [
       "4.0"
      ]
     },
     "execution_count": 18,
     "metadata": {},
     "output_type": "execute_result"
    }
   ],
   "source": [
    "c.real"
   ]
  },
  {
   "cell_type": "code",
   "execution_count": 19,
   "id": "059513f3-1cce-45a3-afbb-d9ee142a362a",
   "metadata": {},
   "outputs": [
    {
     "data": {
      "text/plain": [
       "6.0"
      ]
     },
     "execution_count": 19,
     "metadata": {},
     "output_type": "execute_result"
    }
   ],
   "source": [
    "c.imag"
   ]
  },
  {
   "cell_type": "code",
   "execution_count": 20,
   "id": "49a8a401-ab9b-4acd-8611-24d4ef1dd879",
   "metadata": {},
   "outputs": [],
   "source": [
    "b = True"
   ]
  },
  {
   "cell_type": "code",
   "execution_count": 21,
   "id": "77572b1b-b7c8-4f6f-befa-44ee481122be",
   "metadata": {},
   "outputs": [
    {
     "data": {
      "text/plain": [
       "bool"
      ]
     },
     "execution_count": 21,
     "metadata": {},
     "output_type": "execute_result"
    }
   ],
   "source": [
    "type(b)"
   ]
  },
  {
   "cell_type": "code",
   "execution_count": 22,
   "id": "7fcdfe89-979c-4861-b77f-b18199e66454",
   "metadata": {},
   "outputs": [],
   "source": [
    "b1 = False"
   ]
  },
  {
   "cell_type": "code",
   "execution_count": 23,
   "id": "c857d3b9-c5f6-40a7-a0d8-5052906dc224",
   "metadata": {},
   "outputs": [
    {
     "data": {
      "text/plain": [
       "bool"
      ]
     },
     "execution_count": 23,
     "metadata": {},
     "output_type": "execute_result"
    }
   ],
   "source": [
    "type(b1)"
   ]
  },
  {
   "cell_type": "code",
   "execution_count": 24,
   "id": "6dbc5d3b-d592-47dc-899a-5ec1874c79ee",
   "metadata": {},
   "outputs": [],
   "source": [
    "a1 = 45\n",
    "b1 = 25"
   ]
  },
  {
   "cell_type": "code",
   "execution_count": 25,
   "id": "47abc758-8b18-4999-a99f-d1efbc9270e2",
   "metadata": {},
   "outputs": [
    {
     "data": {
      "text/plain": [
       "70"
      ]
     },
     "execution_count": 25,
     "metadata": {},
     "output_type": "execute_result"
    }
   ],
   "source": [
    "a1+b1"
   ]
  },
  {
   "cell_type": "code",
   "execution_count": 26,
   "id": "b41e3fb9-d9f6-42f6-b2fd-7e1cce0ab443",
   "metadata": {},
   "outputs": [
    {
     "data": {
      "text/plain": [
       "1125"
      ]
     },
     "execution_count": 26,
     "metadata": {},
     "output_type": "execute_result"
    }
   ],
   "source": [
    "a1*b1"
   ]
  },
  {
   "cell_type": "code",
   "execution_count": 27,
   "id": "be6186eb-9c0d-4400-82b6-86c5ca059bc8",
   "metadata": {},
   "outputs": [
    {
     "data": {
      "text/plain": [
       "1.8"
      ]
     },
     "execution_count": 27,
     "metadata": {},
     "output_type": "execute_result"
    }
   ],
   "source": [
    "a1/b1"
   ]
  },
  {
   "cell_type": "code",
   "execution_count": 28,
   "id": "0ad198fa-0bb9-4e42-863c-55c911c3ba9b",
   "metadata": {},
   "outputs": [
    {
     "data": {
      "text/plain": [
       "20"
      ]
     },
     "execution_count": 28,
     "metadata": {},
     "output_type": "execute_result"
    }
   ],
   "source": [
    "a1-b1"
   ]
  },
  {
   "cell_type": "code",
   "execution_count": 29,
   "id": "26c09726-d414-4974-8315-1a9bb8428783",
   "metadata": {},
   "outputs": [],
   "source": [
    "a1,b1 = 45,25"
   ]
  },
  {
   "cell_type": "code",
   "execution_count": 30,
   "id": "c78f1b59-85c7-490a-b9fd-78ecf0c6060b",
   "metadata": {},
   "outputs": [
    {
     "data": {
      "text/plain": [
       "70"
      ]
     },
     "execution_count": 30,
     "metadata": {},
     "output_type": "execute_result"
    }
   ],
   "source": [
    "a1+b1"
   ]
  },
  {
   "cell_type": "code",
   "execution_count": null,
   "id": "c680596c-88e6-4e2c-b72a-97951ff8245d",
   "metadata": {},
   "outputs": [],
   "source": []
  }
 ],
 "metadata": {
  "kernelspec": {
   "display_name": "Python 3 (ipykernel)",
   "language": "python",
   "name": "python3"
  },
  "language_info": {
   "codemirror_mode": {
    "name": "ipython",
    "version": 3
   },
   "file_extension": ".py",
   "mimetype": "text/x-python",
   "name": "python",
   "nbconvert_exporter": "python",
   "pygments_lexer": "ipython3",
   "version": "3.10.8"
  }
 },
 "nbformat": 4,
 "nbformat_minor": 5
}
