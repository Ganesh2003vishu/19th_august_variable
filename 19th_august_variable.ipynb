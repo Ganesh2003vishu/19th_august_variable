{
 "cells": [
  {
   "cell_type": "markdown",
   "id": "80fbb4d7-9133-4cf7-ac33-6e57d71f0176",
   "metadata": {},
   "source": [
    "1. Declare two variables, `x` and `y`, and assign them integer values. Swap the\n",
    "values of these variables without using any temporary variable."
   ]
  },
  {
   "cell_type": "code",
   "execution_count": 10,
   "id": "b86ba1b0-273d-4600-97ea-aa380eb78460",
   "metadata": {},
   "outputs": [],
   "source": [
    "#declaring two variables x and y in integer\n",
    "x = 5 \n",
    "y = 10\n",
    "\n",
    "# swapping them without using any temporary variable\n",
    "x , y = y , x"
   ]
  },
  {
   "cell_type": "code",
   "execution_count": 12,
   "id": "b8260d43-aa69-495f-8d6e-6383eae88acd",
   "metadata": {},
   "outputs": [
    {
     "data": {
      "text/plain": [
       "(10, 5)"
      ]
     },
     "execution_count": 12,
     "metadata": {},
     "output_type": "execute_result"
    }
   ],
   "source": [
    "x,y"
   ]
  },
  {
   "cell_type": "markdown",
   "id": "790e1fca-c453-45c4-8159-be7fc8eb2af4",
   "metadata": {},
   "source": [
    "2. Create a program that calculates the area of a rectangle. Take the length and\n",
    "width as inputs from the user and store them in variables. Calculate and\n",
    "display the area.\n"
   ]
  },
  {
   "cell_type": "code",
   "execution_count": 3,
   "id": "581aa945-293e-46ef-9880-0ef907b130d3",
   "metadata": {},
   "outputs": [
    {
     "name": "stdin",
     "output_type": "stream",
     "text": [
      "Enter the lenght of rectangle:  12\n",
      "Enter the Width of  rectangle:  12\n"
     ]
    },
    {
     "name": "stdout",
     "output_type": "stream",
     "text": [
      "The area of the rectangle is:  144\n"
     ]
    }
   ],
   "source": [
    "#taking input in integer for two variables\n",
    "length = int(input(\"Enter the lenght of rectangle: \"))\n",
    "width = int(input(\"Enter the Width of  rectangle: \"))\n",
    "#calculating the area of rectangle  \n",
    "area = length * width \n",
    "print (\"The area of the rectangle is: \", area)"
   ]
  },
  {
   "cell_type": "markdown",
   "id": "46e1c5f6-7c1e-415b-a118-55705b722ce7",
   "metadata": {},
   "source": [
    " 3. Write a Python program that converts temperatures from Celsius to\n",
    "Fahrenheit. Take the temperature in Celsius as input, store it in a variable,\n",
    "convert it to Fahrenheit, and display the result."
   ]
  },
  {
   "cell_type": "code",
   "execution_count": 24,
   "id": "f41a8ba6-6485-4be4-a890-f6e832f2ccae",
   "metadata": {},
   "outputs": [
    {
     "name": "stdin",
     "output_type": "stream",
     "text": [
      "Enter the celsius you want to convert 12\n"
     ]
    },
    {
     "name": "stdout",
     "output_type": "stream",
     "text": [
      "The celcius  12.0 is converted into fahrenheit is:  53.6\n"
     ]
    }
   ],
   "source": [
    "C = float(input(\"Enter the celsius you want to convert\"))#c is taken as celcius. \n",
    "F = 9/5* C + 32 # it is the formula for converting celcius to fehrenheit. and F denotes as fehrenheit.\n",
    "print(\"The celcius \" , C , \"is converted into fahrenheit is: \" , F) "
   ]
  },
  {
   "cell_type": "markdown",
   "id": "870618b8-2bee-451f-b1cf-915e55d3c7f6",
   "metadata": {},
   "source": [
    "TOPIC: String Based Questions"
   ]
  },
  {
   "cell_type": "markdown",
   "id": "e6f57ba3-a315-47b2-b4ba-e6687bc449fe",
   "metadata": {},
   "source": [
    "1. Write a Python program that takes a string as input and prints the length of\n",
    "the string."
   ]
  },
  {
   "cell_type": "code",
   "execution_count": 4,
   "id": "10521e0b-a725-4402-ac23-775d9dfd06d0",
   "metadata": {},
   "outputs": [
    {
     "name": "stdin",
     "output_type": "stream",
     "text": [
      "Enter you name Ganesh\n"
     ]
    },
    {
     "name": "stdout",
     "output_type": "stream",
     "text": [
      "6\n"
     ]
    }
   ],
   "source": [
    "# taking user input name as a string.\n",
    "name = input(\"Enter you name\")\n",
    "print(len(name))# here we have used the str function for calculating the length of the string which we have taken as a user input."
   ]
  },
  {
   "cell_type": "markdown",
   "id": "e624e98a-86b8-4565-b0ca-80a9b57535f1",
   "metadata": {},
   "source": [
    "2. Create a program that takes a sentence from the user and counts the number\n",
    "of vowels (a, e, i, o, u) in the string."
   ]
  },
  {
   "cell_type": "code",
   "execution_count": 5,
   "id": "d0c2b002-1d67-4526-a8f1-1348e53b91fb",
   "metadata": {},
   "outputs": [
    {
     "name": "stdin",
     "output_type": "stream",
     "text": [
      "Enter a sentence:  hii my name is Ganesh\n"
     ]
    },
    {
     "name": "stdout",
     "output_type": "stream",
     "text": [
      "The number of vowels in the sentence is: 7\n"
     ]
    }
   ],
   "source": [
    "# Prompt the user to enter a sentence\n",
    "sentence = input(\"Enter a sentence: \")\n",
    "\n",
    "# Define a set of vowels\n",
    "vowels = \"aeiouAEIOU\"\n",
    "\n",
    "# Use a string function to count the number of vowels\n",
    "vowel_count = sum(1 for char in sentence if char in vowels)\n",
    "\n",
    "# Display the number of vowels in the sentence\n",
    "print(\"The number of vowels in the sentence is:\", vowel_count)\n"
   ]
  },
  {
   "cell_type": "markdown",
   "id": "9b52ee91-610b-46c2-8c71-be5df19ec5e3",
   "metadata": {},
   "source": [
    "3. Given a string, reverse the order of characters using string slicing and print\n",
    "the reversed string."
   ]
  },
  {
   "cell_type": "code",
   "execution_count": 27,
   "id": "e5a3dfff-3d3c-4686-9a0c-19984700d702",
   "metadata": {},
   "outputs": [
    {
     "name": "stdout",
     "output_type": "stream",
     "text": [
      "sllikswp\n"
     ]
    }
   ],
   "source": [
    "study = 'pwskills' # Declaring a variable study \n",
    "print(study[-1:-9:-1]) #slicing it down (study[-1]<-- here it denotes the start ,[-9] <--- it denotes the end, [-1]<-- it is the step which goes from\n",
    "#left to right\n",
    "\n"
   ]
  },
  {
   "cell_type": "markdown",
   "id": "2749daf3-5881-4f34-ac15-2f41ace0f3f9",
   "metadata": {},
   "source": [
    "4. Write a program that takes a string as input and checks if it is a palindrome\n",
    "(reads the same forwards and backwards)."
   ]
  },
  {
   "cell_type": "code",
   "execution_count": 28,
   "id": "1d49e870-81f7-4df0-83a6-bfd77f4ca7b0",
   "metadata": {},
   "outputs": [
    {
     "name": "stdin",
     "output_type": "stream",
     "text": [
      "Enter a string:  ganag\n"
     ]
    },
    {
     "name": "stdout",
     "output_type": "stream",
     "text": [
      "The string is a palindrome.\n"
     ]
    }
   ],
   "source": [
    "# Prompt the user to enter a string\n",
    "input_string = input(\"Enter a string: \")\n",
    "\n",
    "# Convert the input string to lowercase and remove spaces\n",
    "input_string = input_string.lower().replace(\" \", \"\")\n",
    "\n",
    "# Reverse the input string\n",
    "reversed_string = input_string[::-1]\n",
    "\n",
    "# Check if the input string is equal to its reverse\n",
    "if input_string == reversed_string:\n",
    "    print(\"The string is a palindrome.\")\n",
    "else:\n",
    "    print(\"The string is not a palindrome.\")\n"
   ]
  },
  {
   "cell_type": "markdown",
   "id": "85bac5ba-f615-4708-a8ad-830482fec036",
   "metadata": {},
   "source": [
    "5. Create a program that takes a string as input and removes all the spaces from\n",
    "it. Print the modified string without spaces."
   ]
  },
  {
   "cell_type": "code",
   "execution_count": 32,
   "id": "c14fd041-0c34-46c9-8c62-944d5aa9d8c4",
   "metadata": {},
   "outputs": [
    {
     "name": "stdin",
     "output_type": "stream",
     "text": [
      "Enter a string:  hi how are you doing today\n"
     ]
    },
    {
     "name": "stdout",
     "output_type": "stream",
     "text": [
      "Modified string without spaces: hihowareyoudoingtoday\n"
     ]
    }
   ],
   "source": [
    "# Prompt the user to enter a string\n",
    "input_string = input(\"Enter a string: \")\n",
    "\n",
    "# Remove all the spaces from the input string\n",
    "modified_string = input_string.replace(\" \", \"\")\n",
    "\n",
    "# Print the modified string without spaces\n",
    "print(\"Modified string without spaces:\", modified_string)\n"
   ]
  },
  {
   "cell_type": "code",
   "execution_count": null,
   "id": "bddba272-0625-4fc2-bb78-4860d554100e",
   "metadata": {},
   "outputs": [],
   "source": []
  }
 ],
 "metadata": {
  "kernelspec": {
   "display_name": "Python 3 (ipykernel)",
   "language": "python",
   "name": "python3"
  },
  "language_info": {
   "codemirror_mode": {
    "name": "ipython",
    "version": 3
   },
   "file_extension": ".py",
   "mimetype": "text/x-python",
   "name": "python",
   "nbconvert_exporter": "python",
   "pygments_lexer": "ipython3",
   "version": "3.10.8"
  }
 },
 "nbformat": 4,
 "nbformat_minor": 5
}
