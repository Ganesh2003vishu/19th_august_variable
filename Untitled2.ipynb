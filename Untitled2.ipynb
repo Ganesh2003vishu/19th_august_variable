{
 "cells": [
  {
   "cell_type": "code",
   "execution_count": 16,
   "id": "9baea8a4-d6d7-4ce3-b5ba-50e1bb22ad01",
   "metadata": {},
   "outputs": [],
   "source": [
    "a=(1,2,3,4,)"
   ]
  },
  {
   "cell_type": "code",
   "execution_count": 20,
   "id": "4f05a6e2-6335-4802-8f32-22f1b759dd80",
   "metadata": {},
   "outputs": [
    {
     "data": {
      "text/plain": [
       "(4, 3, 2, 1)"
      ]
     },
     "execution_count": 20,
     "metadata": {},
     "output_type": "execute_result"
    }
   ],
   "source": [
    "a[::-1]"
   ]
  },
  {
   "cell_type": "code",
   "execution_count": 21,
   "id": "eb6af13f-4628-415e-a0ff-d2a96f9bda93",
   "metadata": {},
   "outputs": [],
   "source": [
    "a=('radar')"
   ]
  },
  {
   "cell_type": "code",
   "execution_count": 23,
   "id": "43e646d8-03b8-4618-8abc-1caecca7f997",
   "metadata": {},
   "outputs": [
    {
     "data": {
      "text/plain": [
       "'radar'"
      ]
     },
     "execution_count": 23,
     "metadata": {},
     "output_type": "execute_result"
    }
   ],
   "source": [
    "a[::-1]"
   ]
  },
  {
   "cell_type": "code",
   "execution_count": 24,
   "id": "77f7ddc8-95f4-4191-9f7a-fddddb28a9a7",
   "metadata": {},
   "outputs": [],
   "source": [
    "a=('a,p,p,l,e')"
   ]
  },
  {
   "cell_type": "code",
   "execution_count": null,
   "id": "725ec12b-31a4-4ecd-8316-63b6702c6a99",
   "metadata": {},
   "outputs": [],
   "source": []
  }
 ],
 "metadata": {
  "kernelspec": {
   "display_name": "Python 3 (ipykernel)",
   "language": "python",
   "name": "python3"
  },
  "language_info": {
   "codemirror_mode": {
    "name": "ipython",
    "version": 3
   },
   "file_extension": ".py",
   "mimetype": "text/x-python",
   "name": "python",
   "nbconvert_exporter": "python",
   "pygments_lexer": "ipython3",
   "version": "3.10.8"
  }
 },
 "nbformat": 4,
 "nbformat_minor": 5
}
